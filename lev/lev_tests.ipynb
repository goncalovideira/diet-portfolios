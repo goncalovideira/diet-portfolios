{
 "cells": [
  {
   "cell_type": "code",
   "execution_count": 1,
   "metadata": {},
   "outputs": [],
   "source": [
    "import pandas as pd\n",
    "import numpy as np"
   ]
  },
  {
   "cell_type": "code",
   "execution_count": 3,
   "metadata": {},
   "outputs": [],
   "source": [
    "# create Dataframe\n",
    "df = pd.read_json(\"tempData.json\")"
   ]
  },
  {
   "cell_type": "code",
   "execution_count": 4,
   "metadata": {},
   "outputs": [
    {
     "data": {
      "text/plain": [
       "Index(['id', 'name', 'slug', 'permalink', 'date_created', 'date_created_gmt',\n",
       "       'date_modified', 'date_modified_gmt', 'type', 'status', 'featured',\n",
       "       'catalog_visibility', 'description', 'short_description', 'sku',\n",
       "       'price', 'regular_price', 'sale_price', 'date_on_sale_from',\n",
       "       'date_on_sale_from_gmt', 'date_on_sale_to', 'date_on_sale_to_gmt',\n",
       "       'on_sale', 'purchasable', 'total_sales', 'virtual', 'downloadable',\n",
       "       'downloads', 'download_limit', 'download_expiry', 'external_url',\n",
       "       'button_text', 'tax_status', 'tax_class', 'manage_stock',\n",
       "       'stock_quantity', 'backorders', 'backorders_allowed', 'backordered',\n",
       "       'low_stock_amount', 'sold_individually', 'weight', 'dimensions',\n",
       "       'shipping_required', 'shipping_taxable', 'shipping_class',\n",
       "       'shipping_class_id', 'reviews_allowed', 'average_rating',\n",
       "       'rating_count', 'upsell_ids', 'cross_sell_ids', 'parent_id',\n",
       "       'purchase_note', 'categories', 'tags', 'images', 'attributes',\n",
       "       'default_attributes', 'variations', 'grouped_products', 'menu_order',\n",
       "       'price_html', 'related_ids', 'meta_data', 'stock_status', 'acf',\n",
       "       'yoast_head', 'yoast_head_json', 'head_tags', 'reviews', '_links'],\n",
       "      dtype='object')"
      ]
     },
     "execution_count": 4,
     "metadata": {},
     "output_type": "execute_result"
    }
   ],
   "source": [
    "df.columns"
   ]
  },
  {
   "cell_type": "code",
   "execution_count": 9,
   "metadata": {},
   "outputs": [
    {
     "data": {
      "text/html": [
       "<div>\n",
       "<style scoped>\n",
       "    .dataframe tbody tr th:only-of-type {\n",
       "        vertical-align: middle;\n",
       "    }\n",
       "\n",
       "    .dataframe tbody tr th {\n",
       "        vertical-align: top;\n",
       "    }\n",
       "\n",
       "    .dataframe thead th {\n",
       "        text-align: right;\n",
       "    }\n",
       "</style>\n",
       "<table border=\"1\" class=\"dataframe\">\n",
       "  <thead>\n",
       "    <tr style=\"text-align: right;\">\n",
       "      <th></th>\n",
       "      <th>id</th>\n",
       "      <th>name</th>\n",
       "      <th>slug</th>\n",
       "      <th>permalink</th>\n",
       "      <th>date_created</th>\n",
       "      <th>date_created_gmt</th>\n",
       "      <th>date_modified</th>\n",
       "      <th>date_modified_gmt</th>\n",
       "      <th>type</th>\n",
       "      <th>status</th>\n",
       "      <th>...</th>\n",
       "      <th>price_html</th>\n",
       "      <th>related_ids</th>\n",
       "      <th>meta_data</th>\n",
       "      <th>stock_status</th>\n",
       "      <th>acf</th>\n",
       "      <th>yoast_head</th>\n",
       "      <th>yoast_head_json</th>\n",
       "      <th>head_tags</th>\n",
       "      <th>reviews</th>\n",
       "      <th>_links</th>\n",
       "    </tr>\n",
       "  </thead>\n",
       "  <tbody>\n",
       "    <tr>\n",
       "      <th>0</th>\n",
       "      <td>5255</td>\n",
       "      <td>Crepe de Fiambre</td>\n",
       "      <td>crepe-de-fiambre</td>\n",
       "      <td>https://levcms.live.afonso.se/produto/crepe-de...</td>\n",
       "      <td>2022-02-18T14:45:01</td>\n",
       "      <td>2022-02-18T14:45:01</td>\n",
       "      <td>2022-02-21T10:00:43</td>\n",
       "      <td>2022-02-21T10:00:43</td>\n",
       "      <td>simple</td>\n",
       "      <td>publish</td>\n",
       "      <td>...</td>\n",
       "      <td>&lt;span class=\"woocommerce-Price-amount amount\"&gt;...</td>\n",
       "      <td>[231, 228, 230, 229, 506]</td>\n",
       "      <td>[{'id': 167138, 'key': 'dropdown_0_dropdown_ti...</td>\n",
       "      <td>instock</td>\n",
       "      <td>{'dropdown': [{'dropdown_title': 'Ingredientes...</td>\n",
       "      <td>&lt;!-- This site is optimized with the Yoast SEO...</td>\n",
       "      <td>{'title': 'Crepe de Fiambre, uma opção saudáve...</td>\n",
       "      <td>[{'tag': 'meta', 'attributes': {'name': 'robot...</td>\n",
       "      <td>[]</td>\n",
       "      <td>{'self': [{'href': 'https://levcms.live.afonso...</td>\n",
       "    </tr>\n",
       "    <tr>\n",
       "      <th>1</th>\n",
       "      <td>2530</td>\n",
       "      <td>Quiche Vegetariana</td>\n",
       "      <td>quiche-vegetariana</td>\n",
       "      <td>https://levcms.live.afonso.se/produto/quiche-v...</td>\n",
       "      <td>2021-10-07T14:05:03</td>\n",
       "      <td>2021-10-07T14:05:03</td>\n",
       "      <td>2022-05-10T12:11:21</td>\n",
       "      <td>2022-05-10T12:11:21</td>\n",
       "      <td>simple</td>\n",
       "      <td>publish</td>\n",
       "      <td>...</td>\n",
       "      <td>&lt;span class=\"woocommerce-Price-amount amount\"&gt;...</td>\n",
       "      <td>[183, 346, 279, 209, 281, 250]</td>\n",
       "      <td>[{'id': 36999, 'key': 'ingredients', 'value': ...</td>\n",
       "      <td>instock</td>\n",
       "      <td>{'dropdown': [{'dropdown_title': 'Ingredientes...</td>\n",
       "      <td>&lt;!-- This site is optimized with the Yoast SEO...</td>\n",
       "      <td>{'title': 'Quiche Vegetariana, o novo prato co...</td>\n",
       "      <td>[{'tag': 'meta', 'attributes': {'name': 'robot...</td>\n",
       "      <td>[]</td>\n",
       "      <td>{'self': [{'href': 'https://levcms.live.afonso...</td>\n",
       "    </tr>\n",
       "  </tbody>\n",
       "</table>\n",
       "<p>2 rows × 72 columns</p>\n",
       "</div>"
      ],
      "text/plain": [
       "     id                name                slug  \\\n",
       "0  5255    Crepe de Fiambre    crepe-de-fiambre   \n",
       "1  2530  Quiche Vegetariana  quiche-vegetariana   \n",
       "\n",
       "                                           permalink         date_created  \\\n",
       "0  https://levcms.live.afonso.se/produto/crepe-de...  2022-02-18T14:45:01   \n",
       "1  https://levcms.live.afonso.se/produto/quiche-v...  2021-10-07T14:05:03   \n",
       "\n",
       "      date_created_gmt        date_modified    date_modified_gmt    type  \\\n",
       "0  2022-02-18T14:45:01  2022-02-21T10:00:43  2022-02-21T10:00:43  simple   \n",
       "1  2021-10-07T14:05:03  2022-05-10T12:11:21  2022-05-10T12:11:21  simple   \n",
       "\n",
       "    status  ...                                         price_html  \\\n",
       "0  publish  ...  <span class=\"woocommerce-Price-amount amount\">...   \n",
       "1  publish  ...  <span class=\"woocommerce-Price-amount amount\">...   \n",
       "\n",
       "                      related_ids  \\\n",
       "0       [231, 228, 230, 229, 506]   \n",
       "1  [183, 346, 279, 209, 281, 250]   \n",
       "\n",
       "                                           meta_data stock_status  \\\n",
       "0  [{'id': 167138, 'key': 'dropdown_0_dropdown_ti...      instock   \n",
       "1  [{'id': 36999, 'key': 'ingredients', 'value': ...      instock   \n",
       "\n",
       "                                                 acf  \\\n",
       "0  {'dropdown': [{'dropdown_title': 'Ingredientes...   \n",
       "1  {'dropdown': [{'dropdown_title': 'Ingredientes...   \n",
       "\n",
       "                                          yoast_head  \\\n",
       "0  <!-- This site is optimized with the Yoast SEO...   \n",
       "1  <!-- This site is optimized with the Yoast SEO...   \n",
       "\n",
       "                                     yoast_head_json  \\\n",
       "0  {'title': 'Crepe de Fiambre, uma opção saudáve...   \n",
       "1  {'title': 'Quiche Vegetariana, o novo prato co...   \n",
       "\n",
       "                                           head_tags  reviews  \\\n",
       "0  [{'tag': 'meta', 'attributes': {'name': 'robot...       []   \n",
       "1  [{'tag': 'meta', 'attributes': {'name': 'robot...       []   \n",
       "\n",
       "                                              _links  \n",
       "0  {'self': [{'href': 'https://levcms.live.afonso...  \n",
       "1  {'self': [{'href': 'https://levcms.live.afonso...  \n",
       "\n",
       "[2 rows x 72 columns]"
      ]
     },
     "execution_count": 9,
     "metadata": {},
     "output_type": "execute_result"
    }
   ],
   "source": [
    "df"
   ]
  },
  {
   "cell_type": "code",
   "execution_count": 13,
   "metadata": {},
   "outputs": [
    {
     "name": "stdout",
     "output_type": "stream",
     "text": [
      "                                                   2\n",
      "0  {'id': 167140, 'key': 'dropdown_0_dropdown_con...\n"
     ]
    }
   ],
   "source": [
    "pd.json_normalize(df.meta_data, meta=['key', 'value'])"
   ]
  }
 ],
 "metadata": {
  "interpreter": {
   "hash": "8355dbaf0957ca53ab57ef21bd2a0192ff1ec15e5a331c2298591db76d2a45a6"
  },
  "kernelspec": {
   "display_name": "Python 3.10.4 64-bit",
   "language": "python",
   "name": "python3"
  },
  "language_info": {
   "codemirror_mode": {
    "name": "ipython",
    "version": 3
   },
   "file_extension": ".py",
   "mimetype": "text/x-python",
   "name": "python",
   "nbconvert_exporter": "python",
   "pygments_lexer": "ipython3",
   "version": "3.10.4"
  },
  "orig_nbformat": 4
 },
 "nbformat": 4,
 "nbformat_minor": 2
}
